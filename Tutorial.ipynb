{
 "cells": [
  {
   "cell_type": "markdown",
   "metadata": {},
   "source": [
    "<h1 style='color:#000000'> Python Tutorial</h1>\n",
    "\n",
    "This is a high level overview of some aspects of Python that could be useful in an analytical setting."
   ]
  },
  {
   "cell_type": "markdown",
   "metadata": {},
   "source": [
    "<h2 style='color:#6698FF'> Table of Contents</h2>\n",
    "<a name=\"TOC\"></a> \n",
    "\n",
    "1.  [Section 1: Basics](#1)   \n",
    "    1.1.  [Math Functions](#1.1)   \n",
    "    1.2.  [Arrays / Lists / Dictionaries](#1.2)  \n",
    "    1.3.  [Conditionals / Loops](#1.3)\n",
    "2.  [Section 2: Intermediate](#2)   \n",
    "    2.1.  [Custom Functions](#2.1)  \n",
    "    2.2.  [Plotting](#2.2)  \n",
    "    2.3.  [NumPy](#2.3)  \n",
    "    2.4.  [Pandas Dataframes](#2.4) \n",
    "3.  [Section 3: Advanced](#3)   \n",
    "    3.1.  [Sci-Kit Learn](#3.1)  \n",
    "    3.2.  [Simulation 1: 3 Hour Expedition](#3.2)  \n",
    "    3.3.  [Simulation 1: 4-10 Hour Expedition3](#3.3)  "
   ]
  },
  {
   "cell_type": "markdown",
   "metadata": {},
   "source": [
    "<a name=\"1\" style='color:#6698FF'>\n",
    "## Section 1: Basics\n",
    "\n",
    "<a name=\"1.1\">\n",
    "### Math and Strings"
   ]
  },
  {
   "cell_type": "markdown",
   "metadata": {},
   "source": [
    "#### Python will calculate basic math equations in line and spit the output to the command line."
   ]
  },
  {
   "cell_type": "code",
   "execution_count": 19,
   "metadata": {
    "collapsed": false
   },
   "outputs": [
    {
     "data": {
      "text/plain": [
       "9"
      ]
     },
     "execution_count": 19,
     "metadata": {},
     "output_type": "execute_result"
    }
   ],
   "source": [
    "4+5"
   ]
  },
  {
   "cell_type": "markdown",
   "metadata": {},
   "source": [
    "#### Python is dynamically typed, meaning it infers the type of a variable."
   ]
  },
  {
   "cell_type": "code",
   "execution_count": 6,
   "metadata": {
    "collapsed": false
   },
   "outputs": [
    {
     "name": "stdout",
     "output_type": "stream",
     "text": [
      "1\n",
      "4\n",
      "10\n"
     ]
    }
   ],
   "source": [
    "x = 1\n",
    "print x\n",
    "\n",
    "y = 3\n",
    "print x+y\n",
    "\n",
    "z = x+y*y\n",
    "print z"
   ]
  },
  {
   "cell_type": "code",
   "execution_count": 9,
   "metadata": {
    "collapsed": false
   },
   "outputs": [
    {
     "name": "stdout",
     "output_type": "stream",
     "text": [
      "5 times 2 is: 10\n",
      "5 squared is: 25\n",
      "5 divided by 2 is: 2.5\n"
     ]
    }
   ],
   "source": [
    "# Text written after the hash symbol will be commented out\n",
    "x=5\n",
    "print \"5 times 2 is:\", x*2\n",
    "\n",
    "y = x**2 #Two * in a row is an exponent\n",
    "print \"5 squared is:\", str(y) #Integers can be converted to string as needed\n",
    "print \"5 divided by 2 is: \" + str(x/2.0) #Strings are concatenated using +"
   ]
  },
  {
   "cell_type": "markdown",
   "metadata": {},
   "source": [
    "#### More functions exist in the Math library"
   ]
  },
  {
   "cell_type": "code",
   "execution_count": 20,
   "metadata": {
    "collapsed": false
   },
   "outputs": [
    {
     "name": "stdout",
     "output_type": "stream",
     "text": [
      "5.0\n",
      "2.30258509299\n"
     ]
    }
   ],
   "source": [
    "#Use \"import\" to bring in additional packages\n",
    "import math\n",
    "print math.sqrt(25)\n",
    "print math.log(10)"
   ]
  },
  {
   "cell_type": "markdown",
   "metadata": {},
   "source": [
    "#### Because python is dynamically typed, a single variable can store different types without problems"
   ]
  },
  {
   "cell_type": "code",
   "execution_count": 11,
   "metadata": {
    "collapsed": false
   },
   "outputs": [
    {
     "name": "stdout",
     "output_type": "stream",
     "text": [
      "5\n",
      "Hello\n"
     ]
    }
   ],
   "source": [
    "#X is initially perceived as an integer\n",
    "x = 5\n",
    "print x\n",
    "\n",
    "#X is now perceived as a string\n",
    "x = \"Hello\"\n",
    "print x"
   ]
  },
  {
   "cell_type": "code",
   "execution_count": 18,
   "metadata": {
    "collapsed": false
   },
   "outputs": [
    {
     "name": "stdout",
     "output_type": "stream",
     "text": [
      "Line1\n",
      "Line2\n",
      "Line3\n",
      "\n",
      "Line1\n",
      "Line2\n",
      "Line3\n",
      "\n"
     ]
    },
    {
     "data": {
      "text/plain": [
       "True"
      ]
     },
     "execution_count": 18,
     "metadata": {},
     "output_type": "execute_result"
    }
   ],
   "source": [
    "#Use triple quotes for writing block text\n",
    "lines = \"\"\"Line1\n",
    "Line2\n",
    "Line3\n",
    "\"\"\"\n",
    "print lines\n",
    "\n",
    "#Lines and Lines2 are equivalent string. The character \"\\n\" represents a new line.\n",
    "lines2 = \"Line1\\nLine2\\nLine3\\n\"\n",
    "print lines2\n",
    "\n",
    "#Confirm the two texts are equal\n",
    "lines==lines2"
   ]
  },
  {
   "cell_type": "markdown",
   "metadata": {},
   "source": [
    "<a name=\"1.2\">\n",
    "### Arrays / Lists / Dictionaries\n",
    "[Back to Table of Contents](#TOC)"
   ]
  },
  {
   "cell_type": "markdown",
   "metadata": {},
   "source": [
    "#### An array (or list) is a collection of values stored in a single variable"
   ]
  },
  {
   "cell_type": "code",
   "execution_count": 22,
   "metadata": {
    "collapsed": false
   },
   "outputs": [
    {
     "data": {
      "text/plain": [
       "[1, 2, 3, 4, 5]"
      ]
     },
     "execution_count": 22,
     "metadata": {},
     "output_type": "execute_result"
    }
   ],
   "source": [
    "x = [1,2,3,4,5]\n",
    "x"
   ]
  },
  {
   "cell_type": "markdown",
   "metadata": {},
   "source": [
    "#### Additional values can be appended onto the end of a list"
   ]
  },
  {
   "cell_type": "code",
   "execution_count": 23,
   "metadata": {
    "collapsed": false
   },
   "outputs": [
    {
     "data": {
      "text/plain": [
       "[1, 2, 3, 4, 5, 7]"
      ]
     },
     "execution_count": 23,
     "metadata": {},
     "output_type": "execute_result"
    }
   ],
   "source": [
    "x.append(7)\n",
    "x"
   ]
  },
  {
   "cell_type": "markdown",
   "metadata": {},
   "source": [
    "#### Calculations can be done on the elements in an array"
   ]
  },
  {
   "cell_type": "code",
   "execution_count": 45,
   "metadata": {
    "collapsed": false
   },
   "outputs": [
    {
     "name": "stdout",
     "output_type": "stream",
     "text": [
      "21\n",
      "3.5\n"
     ]
    }
   ],
   "source": [
    "print sum(x) #Sum all elements in the list\n",
    "print 1.0*sum(x)/len(x) #Take the average of all elements"
   ]
  },
  {
   "cell_type": "markdown",
   "metadata": {},
   "source": [
    "#### Specific elements can be referenced in an array using the [ ] symbols"
   ]
  },
  {
   "cell_type": "code",
   "execution_count": 47,
   "metadata": {
    "collapsed": false
   },
   "outputs": [
    {
     "name": "stdout",
     "output_type": "stream",
     "text": [
      "1\n",
      "[1, 2, 3]\n",
      "[3, 4, 5, 6]\n"
     ]
    }
   ],
   "source": [
    "#Get first element\n",
    "print x[0]\n",
    "\n",
    "#Get first 3 elements\n",
    "print x[0:3]\n",
    "\n",
    "#Get all elements after 2nd\n",
    "print x[2:]"
   ]
  },
  {
   "cell_type": "markdown",
   "metadata": {},
   "source": [
    "#### A string can be though of as a list of characters"
   ]
  },
  {
   "cell_type": "code",
   "execution_count": 25,
   "metadata": {
    "collapsed": false
   },
   "outputs": [
    {
     "name": "stdout",
     "output_type": "stream",
     "text": [
      "World!\n"
     ]
    }
   ],
   "source": [
    "x = \"Hello World!\"\n",
    "print x[6:] #Print just the substring starting at position 6"
   ]
  },
  {
   "cell_type": "markdown",
   "metadata": {},
   "source": [
    "#### Dictionaries store key-value pairs"
   ]
  },
  {
   "cell_type": "code",
   "execution_count": 62,
   "metadata": {
    "collapsed": false
   },
   "outputs": [
    {
     "name": "stdout",
     "output_type": "stream",
     "text": [
      "{'a': 6, 'c': 3, 'b': 1, 'e': 3, 'd': 2, 'g': 1, 'f': 2, 'h': 1}\n"
     ]
    }
   ],
   "source": [
    "d = {} #New dictionary\n",
    "\n",
    "#List of letters\n",
    "letters = [\"a\",\"a\",\"a\",\"b\",\"a\",\"c\",\"d\",\"e\",\"e\",\"d\",\"a\",\"f\",\"g\",\"h\",\"a\",\"f\",\"e\",\"c\",\"c\"]\n",
    "\n",
    "#Loop through the list\n",
    "for i in letters:\n",
    "    d[i] = d.get(i,0)+1 #Increment the count for each letter (key) when found\n",
    "    \n",
    "print d #Print dictionary (key-value pairs)"
   ]
  },
  {
   "cell_type": "markdown",
   "metadata": {},
   "source": [
    "<a name=\"1.3\">\n",
    "### Conditionals / Loops\n",
    "[Back to Table of Contents](#TOC)"
   ]
  },
  {
   "cell_type": "markdown",
   "metadata": {},
   "source": [
    "#### If / Else statements work the same as in SAS data steps"
   ]
  },
  {
   "cell_type": "code",
   "execution_count": 31,
   "metadata": {
    "collapsed": false
   },
   "outputs": [
    {
     "name": "stdout",
     "output_type": "stream",
     "text": [
      "Please enter an integer: 75\n",
      "X times 2 = 150\n"
     ]
    }
   ],
   "source": [
    "x = int(input(\"Please enter an integer: \"))\n",
    "\n",
    "if x <= 50: print \"X squared =\",x**2\n",
    "elif x<=100: print \"X times 2 =\",x*2\n",
    "else: print \"Number too high.\""
   ]
  },
  {
   "cell_type": "markdown",
   "metadata": {},
   "source": [
    "#### For loops iterate through a range of values"
   ]
  },
  {
   "cell_type": "code",
   "execution_count": 19,
   "metadata": {
    "collapsed": false
   },
   "outputs": [
    {
     "name": "stdout",
     "output_type": "stream",
     "text": [
      "0 1 2 3 4 5 6 7 8 9\n"
     ]
    }
   ],
   "source": [
    "#Loop through a range of integers [0,10)\n",
    "for i in range(0,10):\n",
    "    print i, #A comma allows all iterations to be printed on a single line"
   ]
  },
  {
   "cell_type": "markdown",
   "metadata": {},
   "source": [
    "#### For loops also work on a list of elements"
   ]
  },
  {
   "cell_type": "code",
   "execution_count": 32,
   "metadata": {
    "collapsed": false
   },
   "outputs": [
    {
     "name": "stdout",
     "output_type": "stream",
     "text": [
      "['Decatur', 'Dallas']\n"
     ]
    }
   ],
   "source": [
    "#List of cities\n",
    "cities = [\"Birmingham\",\"Decatur\",\"Houston\",\"Atlanta\",\"Dallas\"]\n",
    "\n",
    "#Empty list for cities starting with \"d\"\n",
    "d_cities = [] \n",
    "\n",
    "#loop through all cities in the list\n",
    "for j in cities:\n",
    "    #If the first letter of the city starts with \"d\", append to d_cities\n",
    "    if j.lower()[0] == \"d\": d_cities.append(j) \n",
    "        \n",
    "print d_cities"
   ]
  },
  {
   "cell_type": "markdown",
   "metadata": {},
   "source": [
    "#### While loops continue to cycle until a condition is met"
   ]
  },
  {
   "cell_type": "code",
   "execution_count": 52,
   "metadata": {
    "collapsed": false
   },
   "outputs": [
    {
     "name": "stdout",
     "output_type": "stream",
     "text": [
      "M is letter 13 in the alphabet.\n"
     ]
    }
   ],
   "source": [
    "not_found = True\n",
    "counter = 0 \n",
    "alphabet = 'abcdefghijklmnopqrstuvwxyz'\n",
    "\n",
    "#While loop to search for the position of the letter M\n",
    "while not_found == True: #Double == is a conditional check\n",
    "    letter = alphabet[counter] #Get the next element of \"alphabet\"\n",
    "    if letter == \"m\": not_found = False #If the letter is \"m\", change the conditional statment\n",
    "    counter+=1 #Increment a counter of iterations run\n",
    "    \n",
    "#Prints the number of loops ran\n",
    "print \"M is letter \" + str(counter) + \" in the alphabet.\""
   ]
  },
  {
   "cell_type": "markdown",
   "metadata": {},
   "source": [
    "<a name=\"2\" style='color:#6698FF'>\n",
    "## Section 2: Intermediate\n",
    "\n",
    "<a name=\"2.1\">\n",
    "### Custom Functions\n",
    "[Back to Table of Contents](#TOC)"
   ]
  },
  {
   "cell_type": "markdown",
   "metadata": {},
   "source": [
    "#### Custom functions can be created to run a snippet of code.\n",
    "This is particularly useful if you need to run pieces of code multiple times. Functions can take input from the user, but it is not required."
   ]
  },
  {
   "cell_type": "code",
   "execution_count": 34,
   "metadata": {
    "collapsed": true
   },
   "outputs": [],
   "source": [
    "#Function takes an input number, multiplies it by 2, and adds 1\n",
    "def two_times_plus_one(input_num):\n",
    "    return 2 * input_num + 1    "
   ]
  },
  {
   "cell_type": "code",
   "execution_count": 36,
   "metadata": {
    "collapsed": false
   },
   "outputs": [
    {
     "name": "stdout",
     "output_type": "stream",
     "text": [
      "11\n",
      "21\n"
     ]
    }
   ],
   "source": [
    "#After being declared, the function can be called anywhere\n",
    "print two_times_plus_one(5)\n",
    "\n",
    "#Output can be stored in a variable\n",
    "x = two_times_plus_one(10)\n",
    "print x"
   ]
  },
  {
   "cell_type": "markdown",
   "metadata": {},
   "source": [
    "#### Functions coupled with loops are perfect for generating simulations"
   ]
  },
  {
   "cell_type": "code",
   "execution_count": 38,
   "metadata": {
    "collapsed": false
   },
   "outputs": [],
   "source": [
    "#Random number generator\n",
    "import random \n",
    "\n",
    "#Function to calculate the average of randomly generated numbers\n",
    "def random_avg(numbers):\n",
    "    rand_nums = [] #List to store random numbers\n",
    "    \n",
    "    #For as many numbers as the user wants to generate\n",
    "    for i in range(0,numbers):\n",
    "        rand_num = random.random() #Generate a random number\n",
    "        rand_nums.append(rand_num) #Append it to the list\n",
    "        \n",
    "    return 1.0*sum(rand_nums)/len(rand_nums) #Return the average of the list"
   ]
  },
  {
   "cell_type": "code",
   "execution_count": 45,
   "metadata": {
    "collapsed": false
   },
   "outputs": [
    {
     "name": "stdout",
     "output_type": "stream",
     "text": [
      "0.609790641137\n",
      "0.531695008795\n",
      "0.498127423937\n"
     ]
    }
   ],
   "source": [
    "# As we generate more numbers, the average should be closer to 50%.\n",
    "print random_avg(1)\n",
    "print random_avg(100)\n",
    "print random_avg(10000)"
   ]
  },
  {
   "cell_type": "markdown",
   "metadata": {},
   "source": [
    "<a name=\"2.2\">\n",
    "### Plotting\n",
    "[Back to Table of Contents](#TOC)"
   ]
  },
  {
   "cell_type": "markdown",
   "metadata": {},
   "source": [
    "#### Python has many tools for displaying data\n",
    "Matplotlib is the most commonly used, but there are many others with more powerful visualizations\n",
    "\n",
    "Plotting in Python require more upfront effort than in Excel, but it is repeatable and offers more customization. That being said, it is important to acknowledge when Python may not be the best solution."
   ]
  },
  {
   "cell_type": "code",
   "execution_count": 58,
   "metadata": {
    "collapsed": false
   },
   "outputs": [],
   "source": [
    "#Keeps all visualizations inline, rather than as new windows.\n",
    "%matplotlib inline \n",
    "import matplotlib.pyplot as plt\n",
    "import numpy as np"
   ]
  },
  {
   "cell_type": "markdown",
   "metadata": {},
   "source": [
    "#### Below is an example of plotting default rates by risk grade\n",
    "In practice, you would pull the data straight from your data source and not need to create new arrays for data and labels."
   ]
  },
  {
   "cell_type": "code",
   "execution_count": 75,
   "metadata": {
    "collapsed": false
   },
   "outputs": [
    {
     "data": {
      "image/png": "[encoded data removed]",
      "text/plain": [
       "<matplotlib.figure.Figure at 0x96684a8>"
      ]
     },
     "metadata": {},
     "output_type": "display_data"
    }
   ],
   "source": [
    "#Default rates and labels\n",
    "bar_points = [0.01,0.07,0.03,0.05,0.1,0.2]\n",
    "bar_labels = [\"A1\",\"A\",\"B\",\"C\",\"D\",\"F\"]\n",
    "\n",
    "#Position for data\n",
    "y_pos = [1,2,3,4,5,6]\n",
    " \n",
    "#Plot the data\n",
    "barlist = plt.bar(y_pos, bar_points, align='center', alpha=0.5)\n",
    "\n",
    "#Format the labels\n",
    "plt.xticks(y_pos, bar_labels) #Set the labels on the x-axis\n",
    "plt.ylabel('Default Rates')   #Set the y-axis label\n",
    "plt.title('Default Rates by Risk Grade', fontsize=14) #Set the plot title\n",
    "\n",
    "#Use colors to highlight specific points\n",
    "barlist[1].set_color('r')\n",
    "\n",
    "#Show the plot\n",
    "plt.show()"
   ]
  },
  {
   "cell_type": "markdown",
   "metadata": {
    "collapsed": true
   },
   "source": [
    "#### Using the same random_avg function from before, we can show the distributions of outcomes \n",
    "Our function calculates the average of a selection of random numbers. As we increase our sample of random numbers, the mean should be closer to one.\n",
    "\n",
    "By running 1000 instances of the function for 1, 10, 100, and 1000 random numbers, we can show that the mean is consistent for all groups but the standard deviation gets much smaller as we increase the sample size."
   ]
  },
  {
   "cell_type": "code",
   "execution_count": 84,
   "metadata": {
    "collapsed": false
   },
   "outputs": [
    {
     "data": {
      "image/png": "[encoded data removed]",
      "text/plain": [
       "<matplotlib.figure.Figure at 0x9dd4f28>"
      ]
     },
     "metadata": {},
     "output_type": "display_data"
    },
    {
     "data": {
      "image/png": "[encoded data removed]",
      "text/plain": [
       "<matplotlib.figure.Figure at 0x99e3588>"
      ]
     },
     "metadata": {},
     "output_type": "display_data"
    },
    {
     "data": {
      "image/png": "[encoded data removed]",
      "text/plain": [
       "<matplotlib.figure.Figure at 0x9821588>"
      ]
     },
     "metadata": {},
     "output_type": "display_data"
    },
    {
     "data": {
      "image/png": "[encoded data removed]",
      "text/plain": [
       "<matplotlib.figure.Figure at 0x8278390>"
      ]
     },
     "metadata": {},
     "output_type": "display_data"
    }
   ],
   "source": [
    "#Number of random numbers per sample to use\n",
    "rand_nums = (1,10,100,1000)\n",
    "\n",
    "#Run a simulation for each selection of random numbers\n",
    "for n in rand_nums:\n",
    "    means = [] #Clear array of means for each set of iterations\n",
    "\n",
    "    #Calculate the mean of n random numbers 1000 times\n",
    "    for j in range(0,1000):\n",
    "        means.append(random_avg(n)) #Append each mean to a list of averages\n",
    "        \n",
    "    #Plot a histogram of the means\n",
    "    plt.hist(means,20, normed=0, facecolor='blue', alpha=0.5)\n",
    "    plt.xlabel('Mean per Sample')\n",
    "    plt.ylabel('Counts')\n",
    "    \n",
    "    #Title contains the number of random numbers per sample, and the average mean\n",
    "    plt.title('Random Numbers per Sample=%i, Mean = %.4f'%(n,np.mean(means)),fontsize=12)\n",
    "    plt.xlim([0.4,0.6]) #Limit the x-axis range\n",
    "\n",
    "    plt.show()"
   ]
  },
  {
   "cell_type": "markdown",
   "metadata": {},
   "source": [
    "<a name=\"2.3\">\n",
    "### NumPy\n",
    "[Back to Table of Contents](#TOC)\n",
    "\n",
    "**Introduction:** https://docs.scipy.org/doc/numpy-dev/user/quickstart.html\n",
    "\n",
    "NumPy brings more advanced capabilties to the array structure than the basic list, specifically multi-dimensionality and the ability to perform functions on all elements at once. It is highly integrated with the Pandas dataframe library."
   ]
  },
  {
   "cell_type": "markdown",
   "metadata": {
    "collapsed": true
   },
   "source": [
    "#### Math operations can be applied to all elements in a NumPy array."
   ]
  },
  {
   "cell_type": "code",
   "execution_count": 112,
   "metadata": {
    "collapsed": false
   },
   "outputs": [
    {
     "name": "stdout",
     "output_type": "stream",
     "text": [
      "[ 2  4  6  8 10]\n",
      "[1, 2, 3, 4, 5, 1, 2, 3, 4, 5]\n",
      "\n",
      "[2 3 4 5 6]\n",
      "[1, 2, 3, 4, 5, 1]\n"
     ]
    },
    {
     "ename": "TypeError",
     "evalue": "can only concatenate list (not \"int\") to list",
     "output_type": "error",
     "traceback": [
      "\u001b[1;31m---------------------------------------------------------------------------\u001b[0m",
      "\u001b[1;31mTypeError\u001b[0m                                 Traceback (most recent call last)",
      "\u001b[1;32m<ipython-input-112-d2addad895c2>\u001b[0m in \u001b[0;36m<module>\u001b[1;34m()\u001b[0m\n\u001b[0;32m     10\u001b[0m \u001b[1;32mprint\u001b[0m \u001b[0ma\u001b[0m\u001b[1;33m+\u001b[0m\u001b[1;36m1\u001b[0m \u001b[1;31m#Adds 1 to all elements\u001b[0m\u001b[1;33m\u001b[0m\u001b[0m\n\u001b[0;32m     11\u001b[0m \u001b[1;32mprint\u001b[0m \u001b[0mb\u001b[0m\u001b[1;33m+\u001b[0m\u001b[1;33m[\u001b[0m\u001b[1;36m1\u001b[0m\u001b[1;33m]\u001b[0m \u001b[1;31m#Concatenates a list of [1] to the end of the list\u001b[0m\u001b[1;33m\u001b[0m\u001b[0m\n\u001b[1;32m---> 12\u001b[1;33m \u001b[1;32mprint\u001b[0m \u001b[0mb\u001b[0m\u001b[1;33m+\u001b[0m\u001b[1;36m1\u001b[0m \u001b[1;31m#Tries to concatenate, but produces an error\u001b[0m\u001b[1;33m\u001b[0m\u001b[0m\n\u001b[0m",
      "\u001b[1;31mTypeError\u001b[0m: can only concatenate list (not \"int\") to list"
     ]
    }
   ],
   "source": [
    "import numpy as np\n",
    "\n",
    "a = np.array([1,2,3,4,5]) #NumPy array\n",
    "b = [1,2,3,4,5] #Comparable list\n",
    "\n",
    "print a*2 #Multiplies all elements by 2\n",
    "print b*2 #Duplicates the list\n",
    "print \"\"\n",
    "\n",
    "print a+1 #Adds 1 to all elements\n",
    "print b+[1] #Concatenates a list of [1] to the end of the list\n",
    "print b+1 #Tries to concatenate, but produces an error"
   ]
  },
  {
   "cell_type": "markdown",
   "metadata": {},
   "source": [
    "#### NumPy handles appends slightly differently than lists\n",
    "NumPy's append function is designed to join 2 arrays, while a list can append single elements. NumPy will also try to convert all elements to the best data type, while a list keeps each element in it's original type."
   ]
  },
  {
   "cell_type": "code",
   "execution_count": 114,
   "metadata": {
    "collapsed": false
   },
   "outputs": [
    {
     "name": "stdout",
     "output_type": "stream",
     "text": [
      "[ 1.   2.   3.   4.   5.   1.5]\n",
      "[1.0, 2.0, 3.0, 4.0, 5.0, 1]\n",
      "['1.0' '2.0' '3.0' '4.0' '5.0' '1.5' 'test']\n",
      "[1.0, 2.0, 3.0, 4.0, 5.0, 1, 'test']\n"
     ]
    }
   ],
   "source": [
    "a = np.array([1.0,2.0,3.0,4.0,5.0]) #NumPy array of floats\n",
    "b = [1.0,2.0,3.0,4.0,5.0] #Comparable list of floats\n",
    "\n",
    "\n",
    "a=np.append(a,[1]) #Append an integer to a NumPy array\n",
    "b.append(1) #Append an integer to a list\n",
    "print a #Converts int to float\n",
    "print b #Keeps int\n",
    "\n",
    "\n",
    "a=np.append(a,[\"test\"]) #Append a string to a NumPy array\n",
    "b.append(\"test\") #Append a string to a list\n",
    "print a #Converts all variables to strings\n",
    "print b #Keeps only \"test\" as string"
   ]
  },
  {
   "cell_type": "markdown",
   "metadata": {},
   "source": [
    "#### NumPy arrays are built to more easily handle multidimensionality than lists"
   ]
  },
  {
   "cell_type": "code",
   "execution_count": 96,
   "metadata": {
    "collapsed": false
   },
   "outputs": [
    {
     "name": "stdout",
     "output_type": "stream",
     "text": [
      "[ 0  1  2  3  4  5  6  7  8  9 10 11 12 13 14] \n",
      "\n",
      "[[ 0  1  2  3  4]\n",
      " [ 5  6  7  8  9]\n",
      " [10 11 12 13 14]] \n",
      "\n",
      "[ 1  6 11]\n",
      "[0 1 2 3 4]\n"
     ]
    }
   ],
   "source": [
    "a = np.arange(15) #Create a NumPy array with a range of elements from 0-14\n",
    "print a, \"\\n\"\n",
    "\n",
    "a = a.reshape(3,5) #Reshape the 1D array to a 2D array\n",
    "print a, \"\\n\"\n",
    "\n",
    "print a[0,:] #Print 1st row\n",
    "print a[:,1] #Print 2nd column"
   ]
  },
  {
   "cell_type": "markdown",
   "metadata": {},
   "source": [
    "<a name=\"2.4\">\n",
    "### Pandas Dataframes\n",
    "[Back to Table of Contents](#TOC)\n",
    "\n",
    "**Pandas Tutorial:** http://nbviewer.jupyter.org/github/jvns/pandas-cookbook/tree/v0.1/cookbook/\n",
    "\n",
    "Pandas is one of the most valuable and popular libraries in the Python toolkit. It is a data structure package designed for real world data analysis."
   ]
  },
  {
   "cell_type": "code",
   "execution_count": 124,
   "metadata": {
    "collapsed": false
   },
   "outputs": [
    {
     "name": "stdout",
     "output_type": "stream",
     "text": [
      "sepal_length    float64\n",
      "sepal_width     float64\n",
      "petal_length    float64\n",
      "petal_width     float64\n",
      "class            object\n",
      "dtype: object\n"
     ]
    },
    {
     "data": {
      "text/html": [
       "<div>\n",
       "<table border=\"1\" class=\"dataframe\">\n",
       "  <thead>\n",
       "    <tr style=\"text-align: right;\">\n",
       "      <th></th>\n",
       "      <th>sepal_length</th>\n",
       "      <th>sepal_width</th>\n",
       "      <th>petal_length</th>\n",
       "      <th>petal_width</th>\n",
       "      <th>class</th>\n",
       "    </tr>\n",
       "  </thead>\n",
       "  <tbody>\n",
       "    <tr>\n",
       "      <th>0</th>\n",
       "      <td>5.1</td>\n",
       "      <td>3.5</td>\n",
       "      <td>1.4</td>\n",
       "      <td>0.2</td>\n",
       "      <td>setosa</td>\n",
       "    </tr>\n",
       "    <tr>\n",
       "      <th>1</th>\n",
       "      <td>4.9</td>\n",
       "      <td>3.0</td>\n",
       "      <td>1.4</td>\n",
       "      <td>0.2</td>\n",
       "      <td>setosa</td>\n",
       "    </tr>\n",
       "    <tr>\n",
       "      <th>2</th>\n",
       "      <td>4.7</td>\n",
       "      <td>3.2</td>\n",
       "      <td>1.3</td>\n",
       "      <td>0.2</td>\n",
       "      <td>setosa</td>\n",
       "    </tr>\n",
       "    <tr>\n",
       "      <th>3</th>\n",
       "      <td>4.6</td>\n",
       "      <td>3.1</td>\n",
       "      <td>1.5</td>\n",
       "      <td>0.2</td>\n",
       "      <td>setosa</td>\n",
       "    </tr>\n",
       "    <tr>\n",
       "      <th>4</th>\n",
       "      <td>5.0</td>\n",
       "      <td>3.6</td>\n",
       "      <td>1.4</td>\n",
       "      <td>0.2</td>\n",
       "      <td>setosa</td>\n",
       "    </tr>\n",
       "  </tbody>\n",
       "</table>\n",
       "</div>"
      ],
      "text/plain": [
       "   sepal_length  sepal_width  petal_length  petal_width   class\n",
       "0           5.1          3.5           1.4          0.2  setosa\n",
       "1           4.9          3.0           1.4          0.2  setosa\n",
       "2           4.7          3.2           1.3          0.2  setosa\n",
       "3           4.6          3.1           1.5          0.2  setosa\n",
       "4           5.0          3.6           1.4          0.2  setosa"
      ]
     },
     "execution_count": 124,
     "metadata": {},
     "output_type": "execute_result"
    }
   ],
   "source": [
    "import pandas as pd\n",
    "\n",
    "iris = pd.read_csv(\"iris.csv\") #Read in a csv file\n",
    "print iris.dtypes #Print the data types\n",
    "iris.head()"
   ]
  },
  {
   "cell_type": "markdown",
   "metadata": {},
   "source": [
    "<a name=\"3\" style='color:#6698FF'>\n",
    "## Section 3: Advanced\n",
    "\n",
    "<a name=\"3.1\">\n",
    "### Sci-Kit Learn\n",
    "[Back to Table of Contents](#TOC)"
   ]
  },
  {
   "cell_type": "code",
   "execution_count": null,
   "metadata": {
    "collapsed": true
   },
   "outputs": [],
   "source": []
  },
  {
   "cell_type": "markdown",
   "metadata": {},
   "source": [
    "#### NLTK"
   ]
  },
  {
   "cell_type": "code",
   "execution_count": null,
   "metadata": {
    "collapsed": true
   },
   "outputs": [],
   "source": []
  },
  {
   "cell_type": "markdown",
   "metadata": {},
   "source": [
    "#### Complex Functions"
   ]
  },
  {
   "cell_type": "code",
   "execution_count": null,
   "metadata": {
    "collapsed": true
   },
   "outputs": [],
   "source": []
  }
 ],
 "metadata": {
  "kernelspec": {
   "display_name": "Python 2",
   "language": "python",
   "name": "python2"
  },
  "language_info": {
   "codemirror_mode": {
    "name": "ipython",
    "version": 2
   },
   "file_extension": ".py",
   "mimetype": "text/x-python",
   "name": "python",
   "nbconvert_exporter": "python",
   "pygments_lexer": "ipython2",
   "version": "2.7.11"
  }
 },
 "nbformat": 4,
 "nbformat_minor": 0
}
