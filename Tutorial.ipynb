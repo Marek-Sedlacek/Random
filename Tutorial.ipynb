{
 "cells": [
  {
   "cell_type": "markdown",
   "metadata": {},
   "source": [
    "<h1 style='color:#000000'> Python Tutorial</h1>\n",
    "\n",
    "This is a high level overview of some aspects of Python that could be useful in an analytical setting."
   ]
  },
  {
   "cell_type": "markdown",
   "metadata": {},
   "source": [
    "<h2 style='color:#6698FF'> Table of Contents</h2>\n",
    "<a name=\"TOC\"></a> \n",
    "\n",
    "1.  [Section 1: Basics](#1)   \n",
    "    1.1.  [Numbers and Strings](#1.1)   \n",
    "    1.2.  [Arrays / Lists / Dictionaries](#1.2)  \n",
    "    1.3.  [Conditionals / Loops](#1.3)\n",
    "2.  [Section 2: Intermediate](#2)   \n",
    "    2.1.  [Custom Functions](#2.1)  \n",
    "    2.2.  [Plotting](#2.2)  \n",
    "    2.3.  [NumPy](#2.3)  \n",
    "    2.4.  [Pandas Dataframes](#2.4) \n",
    "3.  [Section 3: Advanced](#3)   \n",
    "    3.1.  [Sci-Kit Learn](#3.1)  \n",
    "    3.2.  [Simulation 1: 3 Hour Expedition](#3.2)  \n",
    "    3.3.  [Simulation 1: 4-10 Hour Expedition3](#3.3)  "
   ]
  },
  {
   "cell_type": "markdown",
   "metadata": {},
   "source": [
    "<a name=\"1\" style='color:#6698FF'>\n",
    "## Section 1: Basics\n",
    "\n",
    "<a name=\"1.1\">\n",
    "### Numbers and Strings"
   ]
  },
  {
   "cell_type": "markdown",
   "metadata": {},
   "source": [
    "#### Python will calculate basic math equations in line and spit the output to the command line."
   ]
  },
  {
   "cell_type": "code",
   "execution_count": 1,
   "metadata": {
    "collapsed": false
   },
   "outputs": [
    {
     "data": {
      "text/plain": [
       "9"
      ]
     },
     "execution_count": 1,
     "metadata": {},
     "output_type": "execute_result"
    }
   ],
   "source": [
    "4+5"
   ]
  },
  {
   "cell_type": "markdown",
   "metadata": {},
   "source": [
    "#### Python is dynamically typed, meaning it infers the type of a variable."
   ]
  },
  {
   "cell_type": "code",
   "execution_count": 2,
   "metadata": {
    "collapsed": false
   },
   "outputs": [
    {
     "name": "stdout",
     "output_type": "stream",
     "text": [
      "1\n",
      "4\n",
      "10\n"
     ]
    }
   ],
   "source": [
    "x = 1\n",
    "print x\n",
    "\n",
    "y = 3\n",
    "print x+y\n",
    "\n",
    "z = x+y*y\n",
    "print z"
   ]
  },
  {
   "cell_type": "code",
   "execution_count": 4,
   "metadata": {
    "collapsed": false
   },
   "outputs": [
    {
     "name": "stdout",
     "output_type": "stream",
     "text": [
      "5 times 2 is: 10\n",
      "5 squared is: 25\n",
      "5 divided by 2 is: 2.5\n"
     ]
    }
   ],
   "source": [
    "# Text written after the hash symbol will be commented out\n",
    "x=5\n",
    "print \"5 times 2 is:\", x*2\n",
    "\n",
    "y = x**2 #Two * in a row is an exponent\n",
    "print \"5 squared is:\", str(y) #Integers can be converted to string as needed\n",
    "print \"5 divided by 2 is: \" + str(x/2.0) #Strings are concatenated using +"
   ]
  },
  {
   "cell_type": "markdown",
   "metadata": {},
   "source": [
    "#### More functions exist in the Math library"
   ]
  },
  {
   "cell_type": "code",
   "execution_count": 5,
   "metadata": {
    "collapsed": false
   },
   "outputs": [
    {
     "name": "stdout",
     "output_type": "stream",
     "text": [
      "5.0\n",
      "2.30258509299\n",
      "120\n"
     ]
    }
   ],
   "source": [
    "#Use \"import\" to bring in additional packages\n",
    "import math\n",
    "print math.sqrt(25)\n",
    "print math.log(10)\n",
    "print math.factorial(5)"
   ]
  },
  {
   "cell_type": "markdown",
   "metadata": {},
   "source": [
    "#### Because python is dynamically typed, a single variable can store different types"
   ]
  },
  {
   "cell_type": "code",
   "execution_count": 6,
   "metadata": {
    "collapsed": false
   },
   "outputs": [
    {
     "name": "stdout",
     "output_type": "stream",
     "text": [
      "5\n",
      "Hello\n"
     ]
    }
   ],
   "source": [
    "#X is initially perceived as an integer\n",
    "x = 5\n",
    "print x\n",
    "\n",
    "#X is now perceived as a string\n",
    "x = \"Hello\"\n",
    "print x"
   ]
  },
  {
   "cell_type": "code",
   "execution_count": 7,
   "metadata": {
    "collapsed": false
   },
   "outputs": [
    {
     "name": "stdout",
     "output_type": "stream",
     "text": [
      "Line1\n",
      "Line2\n",
      "Line3\n",
      "\n",
      "Line1\n",
      "Line2\n",
      "Line3\n",
      "\n"
     ]
    },
    {
     "data": {
      "text/plain": [
       "True"
      ]
     },
     "execution_count": 7,
     "metadata": {},
     "output_type": "execute_result"
    }
   ],
   "source": [
    "#Use triple quotes for writing block text\n",
    "lines = \"\"\"Line1\n",
    "Line2\n",
    "Line3\n",
    "\"\"\"\n",
    "print lines\n",
    "\n",
    "#Lines and Lines2 are equivalent strings. The character \"\\n\" represents a new line.\n",
    "lines2 = \"Line1\\nLine2\\nLine3\\n\"\n",
    "print lines2\n",
    "\n",
    "#The double equals sign \"==\" compares two variables and returns \"True\" if equivalent\n",
    "lines==lines2"
   ]
  },
  {
   "cell_type": "markdown",
   "metadata": {},
   "source": [
    "<a name=\"1.2\">\n",
    "### Arrays / Lists / Dictionaries\n",
    "[Back to Table of Contents](#TOC)"
   ]
  },
  {
   "cell_type": "markdown",
   "metadata": {},
   "source": [
    "#### An array (or list) is a collection of values stored in a single variable"
   ]
  },
  {
   "cell_type": "code",
   "execution_count": 18,
   "metadata": {
    "collapsed": false
   },
   "outputs": [
    {
     "data": {
      "text/plain": [
       "[1, 2, 3, 4, 5]"
      ]
     },
     "execution_count": 18,
     "metadata": {},
     "output_type": "execute_result"
    }
   ],
   "source": [
    "x = [1,2,3,4,5]\n",
    "x"
   ]
  },
  {
   "cell_type": "markdown",
   "metadata": {},
   "source": [
    "#### Lists are mutable structures\n",
    "Additional values can be appended onto the end of a list, or existing values can be updated."
   ]
  },
  {
   "cell_type": "code",
   "execution_count": 19,
   "metadata": {
    "collapsed": false
   },
   "outputs": [
    {
     "name": "stdout",
     "output_type": "stream",
     "text": [
      "[1, 2, 3, 4, 5, 7]\n",
      "[10, 2, 3, 4, 5, 7]\n"
     ]
    }
   ],
   "source": [
    "#Add a new item\n",
    "x.append(7)\n",
    "print x\n",
    "\n",
    "#Change an existing item\n",
    "x[0] = 10\n",
    "print x"
   ]
  },
  {
   "cell_type": "markdown",
   "metadata": {},
   "source": [
    "#### Calculations can be done on the elements in an array"
   ]
  },
  {
   "cell_type": "code",
   "execution_count": 20,
   "metadata": {
    "collapsed": false
   },
   "outputs": [
    {
     "name": "stdout",
     "output_type": "stream",
     "text": [
      "31\n",
      "5.16666666667\n"
     ]
    }
   ],
   "source": [
    "#Sum all elements in the list\n",
    "print sum(x)\n",
    "\n",
    "#Take the average of all elements\n",
    "print 1.0*sum(x)/len(x) "
   ]
  },
  {
   "cell_type": "markdown",
   "metadata": {},
   "source": [
    "#### Individual elements can be referenced in an array using the [ ] symbols"
   ]
  },
  {
   "cell_type": "code",
   "execution_count": 21,
   "metadata": {
    "collapsed": false
   },
   "outputs": [
    {
     "name": "stdout",
     "output_type": "stream",
     "text": [
      "10\n",
      "[10, 2, 3]\n",
      "[3, 4, 5, 7]\n"
     ]
    }
   ],
   "source": [
    "#Get first element. Lists and Arrays in Python start numbering elements at 0.\n",
    "print x[0]\n",
    "\n",
    "#Get first 3 elements\n",
    "print x[0:3]\n",
    "\n",
    "#Get all elements after 2nd element\n",
    "print x[2:]"
   ]
  },
  {
   "cell_type": "markdown",
   "metadata": {},
   "source": [
    "#### A string can be thought of as a list of characters\n",
    "Any manipulations that can be done to a list can also be done to a string"
   ]
  },
  {
   "cell_type": "code",
   "execution_count": 13,
   "metadata": {
    "collapsed": false
   },
   "outputs": [
    {
     "name": "stdout",
     "output_type": "stream",
     "text": [
      "World!\n"
     ]
    }
   ],
   "source": [
    "x = \"Hello World!\"\n",
    "\n",
    "#Print just the substring starting at position 6 (7th character counting)\n",
    "print x[6:]"
   ]
  },
  {
   "cell_type": "markdown",
   "metadata": {},
   "source": [
    "#### Dictionaries store key-value pairs\n",
    "Instead of using the position to obtain the value (as done for lists), you would reference the key. All keys must be unique."
   ]
  },
  {
   "cell_type": "code",
   "execution_count": 16,
   "metadata": {
    "collapsed": false
   },
   "outputs": [
    {
     "data": {
      "text/plain": [
       "'Zara'"
      ]
     },
     "execution_count": 16,
     "metadata": {},
     "output_type": "execute_result"
    }
   ],
   "source": [
    "#Declare a new dictionary with keys Name, Age, and Class\n",
    "d = {'Name': 'Zara', 'Age': 7, 'Class': 'First'} \n",
    "\n",
    "#Get the value stored in Name\n",
    "d[\"Name\"]"
   ]
  },
  {
   "cell_type": "markdown",
   "metadata": {},
   "source": [
    "#### Dictionaries are useful when you want to identify a value by the key, but are not concerned with the order of the keys. \n",
    "The code below shows how you can use a dictionary to get the count of letters in a sentence and determine the most common letter."
   ]
  },
  {
   "cell_type": "code",
   "execution_count": 35,
   "metadata": {
    "collapsed": false
   },
   "outputs": [
    {
     "name": "stdout",
     "output_type": "stream",
     "text": [
      "{'a': 3, 'c': 3, 'e': 7, 'd': 1, 'i': 4, 'h': 2, 'm': 1, 'l': 1, 'o': 2, 'n': 3, 'p': 1, 's': 6, 'r': 3, 'u': 2, 't': 9, 'y': 1}\n",
      "\n",
      "The most frequently occurring letter is t, with 9 occurrences.\n"
     ]
    }
   ],
   "source": [
    "#Declare a new, empty dictionary\n",
    "d = {} \n",
    "\n",
    "#Sample sentence string. \n",
    "sample_sentence = \"this is a sample sentence to test the dictionary structure\"\n",
    "\n",
    "#Loop through each letter in the sentence (Python treats the sentence like a list)\n",
    "for i in sample_sentence:\n",
    "    \n",
    "    if i == \" \": continue\n",
    "        \n",
    "    #Otherwise, increment the count for the given letter (key)\n",
    "    else: d[i] = d.get(i,0)+1 \n",
    "    \n",
    "#Print dictionary (key-value pairs)\n",
    "print d\n",
    "print\n",
    "\n",
    "#Find the key with the highest value in the dictionary\n",
    "most_common = max(d, key=d.get)\n",
    "\n",
    "#Print the most common letter.\n",
    "print \"The most frequently occurring letter is %s, with %i occurrences.\" %(most_common, d[most_common])"
   ]
  },
  {
   "cell_type": "markdown",
   "metadata": {},
   "source": [
    "<a name=\"1.3\">\n",
    "### Conditionals / Loops\n",
    "[Back to Table of Contents](#TOC)"
   ]
  },
  {
   "cell_type": "markdown",
   "metadata": {},
   "source": [
    "#### If / Else statements work the same as in SAS data steps"
   ]
  },
  {
   "cell_type": "code",
   "execution_count": 31,
   "metadata": {
    "collapsed": false
   },
   "outputs": [
    {
     "name": "stdout",
     "output_type": "stream",
     "text": [
      "Please enter an integer: 75\n",
      "X times 2 = 150\n"
     ]
    }
   ],
   "source": [
    "x = int(input(\"Please enter an integer: \"))\n",
    "\n",
    "if x <= 50: print \"X squared =\",x**2\n",
    "elif x<=100: print \"X times 2 =\",x*2\n",
    "else: print \"Number too high.\""
   ]
  },
  {
   "cell_type": "markdown",
   "metadata": {},
   "source": [
    "#### For loops iterate through a range of values"
   ]
  },
  {
   "cell_type": "code",
   "execution_count": 19,
   "metadata": {
    "collapsed": false
   },
   "outputs": [
    {
     "name": "stdout",
     "output_type": "stream",
     "text": [
      "0 1 2 3 4 5 6 7 8 9\n"
     ]
    }
   ],
   "source": [
    "#Loop through a range of integers [0,10)\n",
    "for i in range(0,10):\n",
    "    print i, #A comma allows all iterations to be printed on a single line"
   ]
  },
  {
   "cell_type": "markdown",
   "metadata": {},
   "source": [
    "#### For loops also work on a list of elements"
   ]
  },
  {
   "cell_type": "code",
   "execution_count": 32,
   "metadata": {
    "collapsed": false
   },
   "outputs": [
    {
     "name": "stdout",
     "output_type": "stream",
     "text": [
      "['Decatur', 'Dallas']\n"
     ]
    }
   ],
   "source": [
    "#List of cities\n",
    "cities = [\"Birmingham\",\"Decatur\",\"Houston\",\"Atlanta\",\"Dallas\"]\n",
    "\n",
    "#Empty list for cities starting with \"d\"\n",
    "d_cities = [] \n",
    "\n",
    "#loop through all cities in the list\n",
    "for j in cities:\n",
    "    #If the first letter of the city starts with \"d\", append to d_cities\n",
    "    if j.lower()[0] == \"d\": d_cities.append(j) \n",
    "        \n",
    "print d_cities"
   ]
  },
  {
   "cell_type": "markdown",
   "metadata": {},
   "source": [
    "#### While loops continue to cycle until a condition is met"
   ]
  },
  {
   "cell_type": "code",
   "execution_count": 52,
   "metadata": {
    "collapsed": false
   },
   "outputs": [
    {
     "name": "stdout",
     "output_type": "stream",
     "text": [
      "M is letter 13 in the alphabet.\n"
     ]
    }
   ],
   "source": [
    "not_found = True\n",
    "counter = 0 \n",
    "alphabet = 'abcdefghijklmnopqrstuvwxyz'\n",
    "\n",
    "#While loop to search for the position of the letter M\n",
    "while not_found == True: #Double == is a conditional check\n",
    "    letter = alphabet[counter] #Get the next element of \"alphabet\"\n",
    "    if letter == \"m\": not_found = False #If the letter is \"m\", change the conditional statment\n",
    "    counter+=1 #Increment a counter of iterations run\n",
    "    \n",
    "#Prints the number of loops ran\n",
    "print \"M is letter \" + str(counter) + \" in the alphabet.\""
   ]
  },
  {
   "cell_type": "markdown",
   "metadata": {},
   "source": [
    "<a name=\"2\" style='color:#6698FF'>\n",
    "## Section 2: Intermediate\n",
    "\n",
    "<a name=\"2.1\">\n",
    "### Custom Functions\n",
    "[Back to Table of Contents](#TOC)"
   ]
  },
  {
   "cell_type": "markdown",
   "metadata": {},
   "source": [
    "#### Custom functions can be created to run a snippet of code.\n",
    "This is particularly useful if you need to run pieces of code multiple times. Functions can take input from the user, but it is not required."
   ]
  },
  {
   "cell_type": "code",
   "execution_count": 34,
   "metadata": {
    "collapsed": true
   },
   "outputs": [],
   "source": [
    "#Function takes an input number, multiplies it by 2, and adds 1\n",
    "def two_times_plus_one(input_num):\n",
    "    return 2 * input_num + 1    "
   ]
  },
  {
   "cell_type": "code",
   "execution_count": 36,
   "metadata": {
    "collapsed": false
   },
   "outputs": [
    {
     "name": "stdout",
     "output_type": "stream",
     "text": [
      "11\n",
      "21\n"
     ]
    }
   ],
   "source": [
    "#After being declared, the function can be called anywhere\n",
    "print two_times_plus_one(5)\n",
    "\n",
    "#Output can be stored in a variable\n",
    "x = two_times_plus_one(10)\n",
    "print x"
   ]
  },
  {
   "cell_type": "markdown",
   "metadata": {},
   "source": [
    "#### Functions coupled with loops are perfect for generating simulations"
   ]
  },
  {
   "cell_type": "code",
   "execution_count": 38,
   "metadata": {
    "collapsed": false
   },
   "outputs": [],
   "source": [
    "#Random number generator\n",
    "import random \n",
    "\n",
    "#Function to calculate the average of randomly generated numbers\n",
    "def random_avg(numbers):\n",
    "    rand_nums = [] #List to store random numbers\n",
    "    \n",
    "    #For as many numbers as the user wants to generate\n",
    "    for i in range(0,numbers):\n",
    "        rand_num = random.random() #Generate a random number\n",
    "        rand_nums.append(rand_num) #Append it to the list\n",
    "        \n",
    "    return 1.0*sum(rand_nums)/len(rand_nums) #Return the average of the list"
   ]
  },
  {
   "cell_type": "code",
   "execution_count": 39,
   "metadata": {
    "collapsed": false
   },
   "outputs": [
    {
     "name": "stdout",
     "output_type": "stream",
     "text": [
      "0.950166398505\n",
      "0.493781121748\n",
      "0.501280507387\n"
     ]
    }
   ],
   "source": [
    "# As we generate more numbers, the average should be closer to 50%.\n",
    "print random_avg(1)\n",
    "print random_avg(100)\n",
    "print random_avg(10000)"
   ]
  },
  {
   "cell_type": "markdown",
   "metadata": {},
   "source": [
    "<a name=\"2.2\">\n",
    "### Plotting\n",
    "[Back to Table of Contents](#TOC)"
   ]
  },
  {
   "cell_type": "markdown",
   "metadata": {},
   "source": [
    "#### Python has many tools for displaying data\n",
    "Matplotlib is the most commonly used, but there are many others with more powerful visualizations\n",
    "\n",
    "Plotting in Python require more upfront effort than in Excel, but it is repeatable and offers more customization. That being said, it is important to acknowledge when Python may not be the best solution."
   ]
  },
  {
   "cell_type": "code",
   "execution_count": 36,
   "metadata": {
    "collapsed": false
   },
   "outputs": [],
   "source": [
    "#Keeps all visualizations inline, rather than as new windows.\n",
    "%matplotlib inline \n",
    "import matplotlib.pyplot as plt\n",
    "import numpy as np"
   ]
  },
  {
   "cell_type": "markdown",
   "metadata": {},
   "source": [
    "#### Below is an example of plotting default rates by risk grade\n",
    "In practice, you would pull the data straight from your data source and not need to create new arrays for data and labels."
   ]
  },
  {
   "cell_type": "code",
   "execution_count": 37,
   "metadata": {
    "collapsed": false
   },
   "outputs": [
    {
     "data": {
      "image/png": "[encoded data removed]",
      "text/plain": [
       "<matplotlib.figure.Figure at 0x764ad30>"
      ]
     },
     "metadata": {},
     "output_type": "display_data"
    }
   ],
   "source": [
    "#Default rates and labels\n",
    "default_rates = [0.01,0.07,0.03,0.05,0.1,0.2]\n",
    "masterscale = [\"A1\",\"A\",\"B\",\"C\",\"D\",\"F\"]\n",
    "\n",
    "#Position for data\n",
    "y_pos = [1,2,3,4,5,6]\n",
    " \n",
    "#Plot the data\n",
    "barlist = plt.bar(y_pos, default_rates, align='center', alpha=0.5)\n",
    "\n",
    "#Format the labels\n",
    "plt.xticks(y_pos, masterscale) #Set the labels on the x-axis\n",
    "plt.ylabel('Default Rates')   #Set the y-axis label\n",
    "plt.title('Default Rates by Risk Grade', fontsize=14) #Set the plot title\n",
    "\n",
    "#Use colors to highlight specific points\n",
    "barlist[1].set_color('r')\n",
    "\n",
    "#Show the plot\n",
    "plt.show()"
   ]
  },
  {
   "cell_type": "markdown",
   "metadata": {
    "collapsed": true
   },
   "source": [
    "#### Using the same random_avg function from before, we can show the distributions of outcomes \n",
    "Our function calculates the average of a selection of random numbers. As we increase our sample of random numbers, the mean should be closer to one.\n",
    "\n",
    "By running 1000 instances of the function for 1, 10, 100, and 1000 random numbers, we can show that the mean is consistent for all groups but the standard deviation gets much smaller as we increase the sample size."
   ]
  },
  {
   "cell_type": "code",
   "execution_count": 42,
   "metadata": {
    "collapsed": false
   },
   "outputs": [
    {
     "data": {
      "image/png": "[encoded data removed]",
      "text/plain": [
       "<matplotlib.figure.Figure at 0x8eeeac8>"
      ]
     },
     "metadata": {},
     "output_type": "display_data"
    }
   ],
   "source": [
    "#Number of random numbers per sample to use\n",
    "rand_nums = (1,10,100,1000)\n",
    "#Counter variable\n",
    "counter = 0\n",
    "\n",
    "#Set up 2x2 plot space for graphs\n",
    "fig, axes = plt.subplots(nrows=2, ncols=2, sharex=False, sharey=False, figsize = (16, 16))\n",
    "\n",
    "#Run a simulation for each selection of random numbers\n",
    "for n in rand_nums:\n",
    "    means = [] #Clear array of means for each set of iterations\n",
    "\n",
    "    ax = axes[counter/2,counter%2] #Choose the \n",
    "    \n",
    "    #Calculate the mean of n random numbers 1000 times\n",
    "    for j in range(0,1000):\n",
    "        means.append(random_avg(n)) #Append each mean to a list of averages\n",
    "        \n",
    "    #Plot a histogram of the means\n",
    "    ax.hist(means,20, normed=0, facecolor='blue', alpha=0.5)\n",
    "    ax.set_xlabel('Mean per Sample')\n",
    "    ax.set_ylabel('Counts')\n",
    "    \n",
    "    #Title contains the number of random numbers per sample, and the average mean\n",
    "    ax.set_title('Random Numbers per Sample=%i, Mean = %.4f'%(n,np.mean(means)),fontsize=15)\n",
    "    ax.set_xlim([0.4,0.6]) #Limit the x-axis range\n",
    "    ax.set_ylim([0,160]) #Limit the y-axis range\n",
    "    \n",
    "    counter +=1\n",
    "\n",
    "plt.show()"
   ]
  },
  {
   "cell_type": "markdown",
   "metadata": {},
   "source": [
    "<a name=\"2.3\">\n",
    "### NumPy\n",
    "[Back to Table of Contents](#TOC)\n",
    "\n",
    "**Introduction:** https://docs.scipy.org/doc/numpy-dev/user/quickstart.html\n",
    "\n",
    "NumPy brings more advanced capabilties to the array structure than the basic list, specifically multi-dimensionality and the ability to perform functions on all elements at once. It is highly integrated with the Pandas dataframe library."
   ]
  },
  {
   "cell_type": "markdown",
   "metadata": {
    "collapsed": true
   },
   "source": [
    "#### Math operations can be applied to all elements in a NumPy array."
   ]
  },
  {
   "cell_type": "code",
   "execution_count": 44,
   "metadata": {
    "collapsed": false
   },
   "outputs": [
    {
     "name": "stdout",
     "output_type": "stream",
     "text": [
      "[1 2 3 4 5]\n",
      "[1, 2, 3, 4, 5]\n",
      "\n",
      "[ 2  4  6  8 10]\n",
      "[1, 2, 3, 4, 5, 1, 2, 3, 4, 5]\n",
      "\n",
      "[2 3 4 5 6]\n",
      "[1, 2, 3, 4, 5, 1]\n"
     ]
    },
    {
     "ename": "TypeError",
     "evalue": "can only concatenate list (not \"int\") to list",
     "output_type": "error",
     "traceback": [
      "\u001b[1;31m---------------------------------------------------------------------------\u001b[0m",
      "\u001b[1;31mTypeError\u001b[0m                                 Traceback (most recent call last)",
      "\u001b[1;32m<ipython-input-44-500efabff010>\u001b[0m in \u001b[0;36m<module>\u001b[1;34m()\u001b[0m\n\u001b[0;32m     13\u001b[0m \u001b[1;32mprint\u001b[0m \u001b[0ma\u001b[0m\u001b[1;33m+\u001b[0m\u001b[1;36m1\u001b[0m \u001b[1;31m#Adds 1 to all elements\u001b[0m\u001b[1;33m\u001b[0m\u001b[0m\n\u001b[0;32m     14\u001b[0m \u001b[1;32mprint\u001b[0m \u001b[0mb\u001b[0m\u001b[1;33m+\u001b[0m\u001b[1;33m[\u001b[0m\u001b[1;36m1\u001b[0m\u001b[1;33m]\u001b[0m \u001b[1;31m#Concatenates a list of [1] to the end of the list\u001b[0m\u001b[1;33m\u001b[0m\u001b[0m\n\u001b[1;32m---> 15\u001b[1;33m \u001b[1;32mprint\u001b[0m \u001b[0mb\u001b[0m\u001b[1;33m+\u001b[0m\u001b[1;36m1\u001b[0m \u001b[1;31m#Tries to concatenate, but produces an error\u001b[0m\u001b[1;33m\u001b[0m\u001b[0m\n\u001b[0m",
      "\u001b[1;31mTypeError\u001b[0m: can only concatenate list (not \"int\") to list"
     ]
    }
   ],
   "source": [
    "import numpy as np\n",
    "\n",
    "a = np.array([1,2,3,4,5]) #NumPy array\n",
    "b = [1,2,3,4,5] #Comparable list\n",
    "print a\n",
    "print b\n",
    "print \"\"\n",
    "\n",
    "print a*2 #Multiplies all elements by 2\n",
    "print b*2 #Duplicates the list\n",
    "print \"\"\n",
    "\n",
    "print a+1 #Adds 1 to all elements\n",
    "print b+[1] #Concatenates a list of [1] to the end of the list\n",
    "print b+1 #Tries to concatenate, but produces an error"
   ]
  },
  {
   "cell_type": "markdown",
   "metadata": {},
   "source": [
    "#### NumPy handles appends slightly differently than lists\n",
    "NumPy's append function is designed to join 2 arrays, while a list can append single elements. NumPy will also try to convert all elements to the best data type, while a list keeps each element in it's original type."
   ]
  },
  {
   "cell_type": "code",
   "execution_count": 128,
   "metadata": {
    "collapsed": false
   },
   "outputs": [
    {
     "name": "stdout",
     "output_type": "stream",
     "text": [
      "[ 1.  2.  3.  4.  5.]\n",
      "[1.0, 2.0, 3.0, 4.0, 5.0]\n",
      "\n",
      "[ 1.  2.  3.  4.  5.  1.]\n",
      "[1.0, 2.0, 3.0, 4.0, 5.0, 1]\n",
      "\n",
      "['1.0' '2.0' '3.0' '4.0' '5.0' '1.0' 'test']\n",
      "[1.0, 2.0, 3.0, 4.0, 5.0, 1, 'test']\n"
     ]
    }
   ],
   "source": [
    "a = np.array([1.0,2.0,3.0,4.0,5.0]) #NumPy array of floats\n",
    "b = [1.0,2.0,3.0,4.0,5.0] #Comparable list of floats\n",
    "print a\n",
    "print b\n",
    "print \"\"\n",
    "\n",
    "a=np.append(a,[1.0]) #Append an integer to a NumPy array\n",
    "b.append(1) #Append an integer to a list\n",
    "print a #Converts int to float\n",
    "print b #Keeps int\n",
    "print \"\"\n",
    "\n",
    "a=np.append(a,[\"test\"]) #Append a string to a NumPy array\n",
    "b.append(\"test\") #Append a string to a list\n",
    "print a #Converts all variables to strings\n",
    "print b #Keeps only \"test\" as string"
   ]
  },
  {
   "cell_type": "markdown",
   "metadata": {},
   "source": [
    "#### NumPy arrays are built to more easily handle multidimensionality than lists"
   ]
  },
  {
   "cell_type": "code",
   "execution_count": 96,
   "metadata": {
    "collapsed": false
   },
   "outputs": [
    {
     "name": "stdout",
     "output_type": "stream",
     "text": [
      "[ 0  1  2  3  4  5  6  7  8  9 10 11 12 13 14] \n",
      "\n",
      "[[ 0  1  2  3  4]\n",
      " [ 5  6  7  8  9]\n",
      " [10 11 12 13 14]] \n",
      "\n",
      "[ 1  6 11]\n",
      "[0 1 2 3 4]\n"
     ]
    }
   ],
   "source": [
    "a = np.arange(15) #Create a NumPy array with a range of elements from 0-14\n",
    "print a, \"\\n\"\n",
    "\n",
    "a = a.reshape(3,5) #Reshape the 1D array to a 2D array\n",
    "print a, \"\\n\"\n",
    "\n",
    "print a[0,:] #Print 1st row\n",
    "print a[:,1] #Print 2nd column"
   ]
  },
  {
   "cell_type": "markdown",
   "metadata": {},
   "source": [
    "<a name=\"2.4\">\n",
    "### Pandas Dataframes\n",
    "[Back to Table of Contents](#TOC)\n",
    "\n",
    "**Pandas Tutorial:** http://nbviewer.jupyter.org/github/jvns/pandas-cookbook/tree/v0.1/cookbook/"
   ]
  },
  {
   "cell_type": "markdown",
   "metadata": {},
   "source": [
    "#### Read in a dataset\n",
    "Pandas is commonly used with csv files, but it can also read Excel and SAS files."
   ]
  },
  {
   "cell_type": "code",
   "execution_count": null,
   "metadata": {
    "collapsed": true
   },
   "outputs": [],
   "source": [
    "import pandas as pd\n",
    "\n",
    "#Read in a csv file\n",
    "iris = pd.read_csv(\"iris.csv\") "
   ]
  },
  {
   "cell_type": "markdown",
   "metadata": {},
   "source": [
    "#### Describe the dataset"
   ]
  },
  {
   "cell_type": "code",
   "execution_count": 128,
   "metadata": {
    "collapsed": false,
    "scrolled": false
   },
   "outputs": [
    {
     "name": "stdout",
     "output_type": "stream",
     "text": [
      "(150, 5)\n",
      "---------------------------------------------------------------------------\n",
      "sepal_length    float64\n",
      "sepal_width     float64\n",
      "petal_length    float64\n",
      "petal_width     float64\n",
      "class            object\n",
      "dtype: object\n",
      "---------------------------------------------------------------------------\n",
      "       sepal_length  sepal_width  petal_length  petal_width\n",
      "count    150.000000   150.000000    150.000000   150.000000\n",
      "mean       5.843333     3.054000      3.758667     1.198667\n",
      "std        0.828066     0.433594      1.764420     0.763161\n",
      "min        4.300000     2.000000      1.000000     0.100000\n",
      "25%        5.100000     2.800000      1.600000     0.300000\n",
      "50%        5.800000     3.000000      4.350000     1.300000\n",
      "75%        6.400000     3.300000      5.100000     1.800000\n",
      "max        7.900000     4.400000      6.900000     2.500000\n",
      "---------------------------------------------------------------------------\n"
     ]
    },
    {
     "data": {
      "text/html": [
       "<div>\n",
       "<table border=\"1\" class=\"dataframe\">\n",
       "  <thead>\n",
       "    <tr style=\"text-align: right;\">\n",
       "      <th></th>\n",
       "      <th>sepal_length</th>\n",
       "      <th>sepal_width</th>\n",
       "      <th>petal_length</th>\n",
       "      <th>petal_width</th>\n",
       "      <th>class</th>\n",
       "    </tr>\n",
       "  </thead>\n",
       "  <tbody>\n",
       "    <tr>\n",
       "      <th>0</th>\n",
       "      <td>5.1</td>\n",
       "      <td>3.5</td>\n",
       "      <td>1.4</td>\n",
       "      <td>0.2</td>\n",
       "      <td>setosa</td>\n",
       "    </tr>\n",
       "    <tr>\n",
       "      <th>1</th>\n",
       "      <td>4.9</td>\n",
       "      <td>3.0</td>\n",
       "      <td>1.4</td>\n",
       "      <td>0.2</td>\n",
       "      <td>setosa</td>\n",
       "    </tr>\n",
       "    <tr>\n",
       "      <th>2</th>\n",
       "      <td>4.7</td>\n",
       "      <td>3.2</td>\n",
       "      <td>1.3</td>\n",
       "      <td>0.2</td>\n",
       "      <td>setosa</td>\n",
       "    </tr>\n",
       "    <tr>\n",
       "      <th>3</th>\n",
       "      <td>4.6</td>\n",
       "      <td>3.1</td>\n",
       "      <td>1.5</td>\n",
       "      <td>0.2</td>\n",
       "      <td>setosa</td>\n",
       "    </tr>\n",
       "    <tr>\n",
       "      <th>4</th>\n",
       "      <td>5.0</td>\n",
       "      <td>3.6</td>\n",
       "      <td>1.4</td>\n",
       "      <td>0.2</td>\n",
       "      <td>setosa</td>\n",
       "    </tr>\n",
       "    <tr>\n",
       "      <th>5</th>\n",
       "      <td>5.4</td>\n",
       "      <td>3.9</td>\n",
       "      <td>1.7</td>\n",
       "      <td>0.4</td>\n",
       "      <td>setosa</td>\n",
       "    </tr>\n",
       "    <tr>\n",
       "      <th>6</th>\n",
       "      <td>4.6</td>\n",
       "      <td>3.4</td>\n",
       "      <td>1.4</td>\n",
       "      <td>0.3</td>\n",
       "      <td>setosa</td>\n",
       "    </tr>\n",
       "  </tbody>\n",
       "</table>\n",
       "</div>"
      ],
      "text/plain": [
       "   sepal_length  sepal_width  petal_length  petal_width   class\n",
       "0           5.1          3.5           1.4          0.2  setosa\n",
       "1           4.9          3.0           1.4          0.2  setosa\n",
       "2           4.7          3.2           1.3          0.2  setosa\n",
       "3           4.6          3.1           1.5          0.2  setosa\n",
       "4           5.0          3.6           1.4          0.2  setosa\n",
       "5           5.4          3.9           1.7          0.4  setosa\n",
       "6           4.6          3.4           1.4          0.3  setosa"
      ]
     },
     "execution_count": 128,
     "metadata": {},
     "output_type": "execute_result"
    }
   ],
   "source": [
    "#Print the shape of the data. (# of rows, # of features)\n",
    "print iris.shape\n",
    "print \"-\"*75\n",
    "\n",
    "#Print the data types\n",
    "print iris.dtypes \n",
    "print \"-\"*75\n",
    "\n",
    "#Print summary statistics about the data\n",
    "print iris.describe()\n",
    "print \"-\"*75\n",
    "\n",
    "#Show just the first rows. 5 by default, but takes a numeric input\n",
    "iris.head(7) "
   ]
  },
  {
   "cell_type": "markdown",
   "metadata": {},
   "source": [
    "#### Exploring the columns"
   ]
  },
  {
   "cell_type": "code",
   "execution_count": 112,
   "metadata": {
    "collapsed": false
   },
   "outputs": [
    {
     "name": "stdout",
     "output_type": "stream",
     "text": [
      "0    5.1\n",
      "1    4.9\n",
      "2    4.7\n",
      "3    4.6\n",
      "4    5.0\n",
      "Name: sepal_length, dtype: float64\n",
      "--------------------------------------------------\n",
      "0    3.5\n",
      "1    3.0\n",
      "2    3.2\n",
      "3    3.1\n",
      "4    3.6\n",
      "Name: sepal_width, dtype: float64\n",
      "--------------------------------------------------\n",
      "Median petal width is: 1.3\n",
      "--------------------------------------------------\n"
     ]
    },
    {
     "data": {
      "text/plain": [
       "setosa        50\n",
       "versicolor    50\n",
       "virginica     50\n",
       "Name: class, dtype: int64"
      ]
     },
     "execution_count": 112,
     "metadata": {},
     "output_type": "execute_result"
    }
   ],
   "source": [
    "#Print the values in the \"sepal_length\" column. Limiting to first 5 rows for visibility\n",
    "print iris[\"sepal_length\"][0:5]\n",
    "print \"-\"*50\n",
    "\n",
    "#If the column names don't have spaces, you can also use df.column_name to reference them\n",
    "print iris.sepal_width.head()\n",
    "print \"-\"*50\n",
    "\n",
    "#Summary calcaulations can be performed on the column data\n",
    "med_petal_width = iris[\"petal_width\"].median()\n",
    "print \"Median petal width is: \" + str(med_petal_width)\n",
    "print \"-\"*50\n",
    "\n",
    "#Frequency of categorical data\n",
    "iris[\"class\"].value_counts()"
   ]
  },
  {
   "cell_type": "markdown",
   "metadata": {},
   "source": [
    "#### Creating new variables\n",
    "We'll keep our raw data unchanged in the Iris dataframe, and create a new dataframe with our manipulations. If we mess up the second dataset, it's easier to reload from a previous df than to read back from the csv."
   ]
  },
  {
   "cell_type": "code",
   "execution_count": 98,
   "metadata": {
    "collapsed": false
   },
   "outputs": [
    {
     "name": "stdout",
     "output_type": "stream",
     "text": [
      "   sepal_length  petal_length  total_length\n",
      "0           5.1           1.4           6.5\n",
      "1           4.9           1.4           6.3\n",
      "2           4.7           1.3           6.0\n",
      "3           4.6           1.5           6.1\n",
      "4           5.0           1.4           6.4\n",
      "\n",
      "   sepal_gt_avg  sepal_width\n",
      "0             1          3.5\n",
      "1             0          3.0\n",
      "2             1          3.2\n",
      "3             1          3.1\n",
      "4             1          3.6\n"
     ]
    },
    {
     "name": "stderr",
     "output_type": "stream",
     "text": [
      "C:\\Users\\MarekSedlacek\\Anaconda\\lib\\site-packages\\ipykernel\\__main__.py:15: SettingWithCopyWarning: \n",
      "A value is trying to be set on a copy of a slice from a DataFrame\n",
      "\n",
      "See the caveats in the documentation: http://pandas.pydata.org/pandas-docs/stable/indexing.html#indexing-view-versus-copy\n"
     ]
    }
   ],
   "source": [
    "#Copy dataframe\n",
    "iris2 = iris.copy()\n",
    "\n",
    "#Create new combined field of sepal and petal length\n",
    "iris2[\"total_length\"] = iris2[\"sepal_length\"] + iris2[\"petal_length\"]\n",
    "\n",
    "#Show just the 3 length fields\n",
    "print iris2[[\"sepal_length\",\"petal_length\",\"total_length\"]].head()\n",
    "print \"\"\n",
    "\n",
    "\n",
    "#Create a flag for whether the sepal_width is greater than the average\n",
    "#Set default to 0\n",
    "iris2[\"sepal_gt_avg\"] = 0 \n",
    "#Set to 1 if greater than the average\n",
    "iris2[\"sepal_gt_avg\"][iris2[\"sepal_width\"]>iris[\"sepal_width\"].mean()] = 1 \n",
    "\n",
    "#Print the flag and the sepal_width\n",
    "print iris2[[\"sepal_gt_avg\",\"sepal_width\"]].head()"
   ]
  },
  {
   "cell_type": "markdown",
   "metadata": {},
   "source": [
    "#### Conditionally Subset Dataframes\n",
    "Occasionally you may want to only explore part of the dataset."
   ]
  },
  {
   "cell_type": "code",
   "execution_count": 122,
   "metadata": {
    "collapsed": false
   },
   "outputs": [
    {
     "data": {
      "text/html": [
       "<div>\n",
       "<table border=\"1\" class=\"dataframe\">\n",
       "  <thead>\n",
       "    <tr style=\"text-align: right;\">\n",
       "      <th></th>\n",
       "      <th>index</th>\n",
       "      <th>sepal_length</th>\n",
       "      <th>sepal_width</th>\n",
       "      <th>petal_length</th>\n",
       "      <th>petal_width</th>\n",
       "      <th>class</th>\n",
       "      <th>total_length</th>\n",
       "      <th>sepal_gt_avg</th>\n",
       "    </tr>\n",
       "  </thead>\n",
       "  <tbody>\n",
       "    <tr>\n",
       "      <th>0</th>\n",
       "      <td>50</td>\n",
       "      <td>7.0</td>\n",
       "      <td>3.2</td>\n",
       "      <td>4.7</td>\n",
       "      <td>1.4</td>\n",
       "      <td>versicolor</td>\n",
       "      <td>11.7</td>\n",
       "      <td>1</td>\n",
       "    </tr>\n",
       "    <tr>\n",
       "      <th>1</th>\n",
       "      <td>51</td>\n",
       "      <td>6.4</td>\n",
       "      <td>3.2</td>\n",
       "      <td>4.5</td>\n",
       "      <td>1.5</td>\n",
       "      <td>versicolor</td>\n",
       "      <td>10.9</td>\n",
       "      <td>1</td>\n",
       "    </tr>\n",
       "    <tr>\n",
       "      <th>2</th>\n",
       "      <td>52</td>\n",
       "      <td>6.9</td>\n",
       "      <td>3.1</td>\n",
       "      <td>4.9</td>\n",
       "      <td>1.5</td>\n",
       "      <td>versicolor</td>\n",
       "      <td>11.8</td>\n",
       "      <td>1</td>\n",
       "    </tr>\n",
       "    <tr>\n",
       "      <th>3</th>\n",
       "      <td>53</td>\n",
       "      <td>5.5</td>\n",
       "      <td>2.3</td>\n",
       "      <td>4.0</td>\n",
       "      <td>1.3</td>\n",
       "      <td>versicolor</td>\n",
       "      <td>9.5</td>\n",
       "      <td>0</td>\n",
       "    </tr>\n",
       "    <tr>\n",
       "      <th>4</th>\n",
       "      <td>54</td>\n",
       "      <td>6.5</td>\n",
       "      <td>2.8</td>\n",
       "      <td>4.6</td>\n",
       "      <td>1.5</td>\n",
       "      <td>versicolor</td>\n",
       "      <td>11.1</td>\n",
       "      <td>0</td>\n",
       "    </tr>\n",
       "  </tbody>\n",
       "</table>\n",
       "</div>"
      ],
      "text/plain": [
       "   index  sepal_length  sepal_width  petal_length  petal_width       class  \\\n",
       "0     50           7.0          3.2           4.7          1.4  versicolor   \n",
       "1     51           6.4          3.2           4.5          1.5  versicolor   \n",
       "2     52           6.9          3.1           4.9          1.5  versicolor   \n",
       "3     53           5.5          2.3           4.0          1.3  versicolor   \n",
       "4     54           6.5          2.8           4.6          1.5  versicolor   \n",
       "\n",
       "   total_length  sepal_gt_avg  \n",
       "0          11.7             1  \n",
       "1          10.9             1  \n",
       "2          11.8             1  \n",
       "3           9.5             0  \n",
       "4          11.1             0  "
      ]
     },
     "execution_count": 122,
     "metadata": {},
     "output_type": "execute_result"
    }
   ],
   "source": [
    "#Subset of \"versicolor\", or keep iris2 where iris2.class equals versicolor\n",
    "versicolor = iris2[iris2[\"class\"]==\"versicolor\"]\n",
    "\n",
    "#Subsets keep the same indices as the original dataframe. Reset_index will start the index back at 0\n",
    "versicolor = versicolor.reset_index()\n",
    "versicolor.head()"
   ]
  },
  {
   "cell_type": "code",
   "execution_count": 130,
   "metadata": {
    "collapsed": false
   },
   "outputs": [
    {
     "name": "stdout",
     "output_type": "stream",
     "text": [
      "0.0533333333333\n"
     ]
    }
   ],
   "source": [
    "#Complex subset, \"versicolor\" with sepal_width greater than average\n",
    "large_versicolor = iris2[(iris2[\"class\"]==\"versicolor\") & (iris2[\"sepal_gt_avg\"]==1)]\n",
    "\n",
    "#Print proportion of flowers in this subset\n",
    "print 1.0*large_versicolor.shape[0]/iris2.shape[0]"
   ]
  },
  {
   "cell_type": "markdown",
   "metadata": {},
   "source": [
    "#### Visual exploration"
   ]
  },
  {
   "cell_type": "code",
   "execution_count": 113,
   "metadata": {
    "collapsed": false
   },
   "outputs": [
    {
     "data": {
      "image/png": "[encoded data removed]",
      "text/plain": [
       "<matplotlib.figure.Figure at 0xb41a358>"
      ]
     },
     "metadata": {},
     "output_type": "display_data"
    },
    {
     "data": {
      "image/png": "[encoded data removed]",
      "text/plain": [
       "<matplotlib.figure.Figure at 0xc4fc6a0>"
      ]
     },
     "metadata": {},
     "output_type": "display_data"
    }
   ],
   "source": [
    "#Line plot of the sepal width\n",
    "iris[\"sepal_width\"].plot()\n",
    "plt.title(\"Sepal Width\",fontsize=16)\n",
    "plt.show()\n",
    "\n",
    "#Histogram of the sepal length\n",
    "plt.hist(iris[\"sepal_length\"],20, normed=0, facecolor='blue', alpha=0.5)\n",
    "plt.title(\"Sepal Length\",fontsize=16)\n",
    "plt.show()"
   ]
  },
  {
   "cell_type": "code",
   "execution_count": 114,
   "metadata": {
    "collapsed": false
   },
   "outputs": [
    {
     "data": {
      "image/png": "[encoded data removed]",
      "text/plain": [
       "<matplotlib.figure.Figure at 0xb41a9e8>"
      ]
     },
     "metadata": {},
     "output_type": "display_data"
    }
   ],
   "source": [
    "#Below is an example of how Python can string multiple operations together in a single step.\n",
    "#First, we group the Iris dataset by class. Then we select only the petal_width column from the\n",
    "#resulting dataframe. We take the mean of this column by class, and plot as a bar chart.\n",
    "\n",
    "#Horizontal bar chart of the average petal width, grouped by class\n",
    "iris.groupby(\"class\")[\"petal_width\"].mean().plot(kind=\"barh\")\n",
    "plt.title(\"Avg Petal Width by Class\",fontsize=16)\n",
    "plt.show()"
   ]
  },
  {
   "cell_type": "markdown",
   "metadata": {},
   "source": [
    "#### Seaborn Visualization\n",
    "Seaborn is another visualization package with unique capabilities. It is not included as a default package, but it can be helpful in certain situations"
   ]
  },
  {
   "cell_type": "code",
   "execution_count": 73,
   "metadata": {
    "collapsed": false
   },
   "outputs": [
    {
     "name": "stderr",
     "output_type": "stream",
     "text": [
      "C:\\Users\\MarekSedlacek\\Anaconda\\lib\\site-packages\\matplotlib\\__init__.py:892: UserWarning: axes.color_cycle is deprecated and replaced with axes.prop_cycle; please use the latter.\n",
      "  warnings.warn(self.msg_depr % (key, alt_key))\n"
     ]
    },
    {
     "data": {
      "text/plain": [
       "<seaborn.axisgrid.PairGrid at 0xca7b898>"
      ]
     },
     "execution_count": 73,
     "metadata": {},
     "output_type": "execute_result"
    },
    {
     "data": {
      "image/png": "[encoded data removed]",
      "text/plain": [
       "<matplotlib.figure.Figure at 0x9025320>"
      ]
     },
     "metadata": {},
     "output_type": "display_data"
    }
   ],
   "source": [
    "import seaborn as sns\n",
    "sns.set()\n",
    "\n",
    "#The pairplot generates scatterplots crossing all numeric variables. \n",
    "#The diagonal shows the class distribution for the given variable\n",
    "sns.pairplot(iris, hue=\"class\")"
   ]
  },
  {
   "cell_type": "markdown",
   "metadata": {},
   "source": [
    "<a name=\"3\" style='color:#6698FF'>\n",
    "## Section 3: Advanced\n",
    "\n",
    "<a name=\"3.1\">\n",
    "### Sci-Kit Learn\n",
    "[Back to Table of Contents](#TOC)"
   ]
  },
  {
   "cell_type": "code",
   "execution_count": null,
   "metadata": {
    "collapsed": true
   },
   "outputs": [],
   "source": []
  },
  {
   "cell_type": "markdown",
   "metadata": {},
   "source": [
    "#### NLTK"
   ]
  },
  {
   "cell_type": "code",
   "execution_count": null,
   "metadata": {
    "collapsed": true
   },
   "outputs": [],
   "source": []
  },
  {
   "cell_type": "markdown",
   "metadata": {},
   "source": [
    "#### Complex Functions"
   ]
  },
  {
   "cell_type": "code",
   "execution_count": null,
   "metadata": {
    "collapsed": true
   },
   "outputs": [],
   "source": []
  }
 ],
 "metadata": {
  "kernelspec": {
   "display_name": "Python 2",
   "language": "python",
   "name": "python2"
  },
  "language_info": {
   "codemirror_mode": {
    "name": "ipython",
    "version": 2
   },
   "file_extension": ".py",
   "mimetype": "text/x-python",
   "name": "python",
   "nbconvert_exporter": "python",
   "pygments_lexer": "ipython2",
   "version": "2.7.11"
  }
 },
 "nbformat": 4,
 "nbformat_minor": 0
}
