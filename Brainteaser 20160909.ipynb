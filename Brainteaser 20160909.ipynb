{
 "cells": [
  {
   "cell_type": "markdown",
   "metadata": {},
   "source": [
    "## Brainteaser 20160909 - Who keeps the money?\n",
    "\n",
    "### Import Libraries"
   ]
  },
  {
   "cell_type": "code",
   "execution_count": 35,
   "metadata": {
    "collapsed": true
   },
   "outputs": [],
   "source": [
    "import matplotlib.pyplot as plt\n",
    "import pandas as pd\n",
    "import numpy as np\n",
    "import random\n",
    "\n",
    "%matplotlib inline"
   ]
  },
  {
   "cell_type": "markdown",
   "metadata": {},
   "source": [
    "### Game Simulation Function"
   ]
  },
  {
   "cell_type": "code",
   "execution_count": 164,
   "metadata": {
    "collapsed": false
   },
   "outputs": [],
   "source": [
    "def game_winner(statisticians, iterations):\n",
    "    winners = {}\n",
    "    winner_arr = []\n",
    "    for i in range(0,iterations):\n",
    "        start = 0\n",
    "        for j in range(0,statisticians):\n",
    "            chance = random.random()\n",
    "            if chance <= 1.0/3: start-=1\n",
    "            elif chance <=2.0/3: start+=1\n",
    "            else: break\n",
    "\n",
    "        winner_arr.append(start%statisticians)\n",
    "        winners[start%statisticians]=winners.get(start%statisticians,0)+1\n",
    "        \n",
    "    winners_prob = {}\n",
    "    for key,value in winners.iteritems():\n",
    "        winners_prob[key] = 1.0*value/sum(winners.values())\n",
    "        \n",
    "    return winners_prob,winner_arr"
   ]
  },
  {
   "cell_type": "markdown",
   "metadata": {},
   "source": [
    "### Results from various simulation iterations"
   ]
  },
  {
   "cell_type": "code",
   "execution_count": 173,
   "metadata": {
    "collapsed": false
   },
   "outputs": [
    {
     "name": "stdout",
     "output_type": "stream",
     "text": [
      "10 Iterations             40.00%\n",
      "100 Iterations            48.00%\n",
      "1000 Iterations           42.80%\n",
      "10000 Iterations          44.70%\n",
      "100000 Iterations         44.11%\n",
      "1000000 Iterations        44.02%\n",
      "10000000 Iterations       44.04%\n"
     ]
    }
   ],
   "source": [
    "for x in [10,100,1000,10000,100000,1000000,10000000]:\n",
    "    winners_prob,winner_arr = game_winner(5,x)\n",
    "    string = str(x)+\" Iterations\"\n",
    "    print \"{0:25} {1:0.2f}%\".format(string,winners_prob[0]*100)"
   ]
  },
  {
   "cell_type": "markdown",
   "metadata": {},
   "source": [
    "### Results from varing the number of statisticians in the game"
   ]
  },
  {
   "cell_type": "code",
   "execution_count": 171,
   "metadata": {
    "collapsed": false,
    "scrolled": true
   },
   "outputs": [
    {
     "data": {
      "text/plain": [
       "[<matplotlib.lines.Line2D at 0xc59a6a0>]"
      ]
     },
     "execution_count": 171,
     "metadata": {},
     "output_type": "execute_result"
    },
    {
     "data": {
      "image/png": "[encoded data removed]",
      "text/plain": [
       "<matplotlib.figure.Figure at 0x911e7b8>"
      ]
     },
     "metadata": {},
     "output_type": "display_data"
    }
   ],
   "source": [
    "win_prob = []\n",
    "for x in range(1,21):\n",
    "    winners_prob,winner_arr = game_winner(x,1000000)\n",
    "#     string = str(x)+\" Iterations\"\n",
    "#     print \"{0:25} {1:0.2f}%\".format(string,winners_prob[0]*100)\n",
    "    win_prob.append(winners_prob[0]*100)\n",
    "    \n",
    "plt.plot(win_prob)"
   ]
  },
  {
   "cell_type": "code",
   "execution_count": 177,
   "metadata": {
    "collapsed": false
   },
   "outputs": [
    {
     "name": "stdout",
     "output_type": "stream",
     "text": [
      "Statisticians: 1, Win Probability: 100.000000\n",
      "Statisticians: 2, Win Probability: 77.786400\n",
      "Statisticians: 3, Win Probability: 48.120200\n",
      "Statisticians: 4, Win Probability: 50.670600\n",
      "Statisticians: 5, Win Probability: 44.000800\n",
      "Statisticians: 6, Win Probability: 46.135500\n",
      "Statisticians: 7, Win Probability: 44.287900\n",
      "Statisticians: 8, Win Probability: 45.206200\n",
      "Statisticians: 9, Win Probability: 44.565000\n",
      "Statisticians: 10, Win Probability: 44.805100\n",
      "Statisticians: 11, Win Probability: 44.521400\n",
      "Statisticians: 12, Win Probability: 44.856300\n",
      "Statisticians: 13, Win Probability: 44.730600\n",
      "Statisticians: 14, Win Probability: 44.672600\n",
      "Statisticians: 15, Win Probability: 44.655600\n",
      "Statisticians: 16, Win Probability: 44.799300\n",
      "Statisticians: 17, Win Probability: 44.772300\n",
      "Statisticians: 18, Win Probability: 44.760400\n",
      "Statisticians: 19, Win Probability: 44.809600\n",
      "Statisticians: 20, Win Probability: 44.699500\n"
     ]
    }
   ],
   "source": [
    "for index,i in enumerate(win_prob):\n",
    "    print \"Statisticians: %i, Win Probability: %f\" %(index+1,i)"
   ]
  }
 ],
 "metadata": {
  "kernelspec": {
   "display_name": "Python 2",
   "language": "python",
   "name": "python2"
  },
  "language_info": {
   "codemirror_mode": {
    "name": "ipython",
    "version": 2
   },
   "file_extension": ".py",
   "mimetype": "text/x-python",
   "name": "python",
   "nbconvert_exporter": "python",
   "pygments_lexer": "ipython2",
   "version": "2.7.11"
  }
 },
 "nbformat": 4,
 "nbformat_minor": 0
}
